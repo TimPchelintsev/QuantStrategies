{
 "cells": [
  {
   "cell_type": "markdown",
   "metadata": {},
   "source": [
    "# Research\n",
    "\n",
    "by Joshua Isaacson and Hannah Isaacson \n",
    "\n",
    "For our Fall 2017 SICE@IU undergraduate research project, *A Sentiment-Based Long-Short Equity Strategy*."
   ]
  },
  {
   "cell_type": "markdown",
   "metadata": {},
   "source": [
    "## Components\n",
    "\n",
    "1. Universe Selection\n",
    "2. Factor Analysis\n",
    "3. Rebalancing\n",
    "4. Portfolio\n",
    "5. Pipeline"
   ]
  },
  {
   "cell_type": "markdown",
   "metadata": {},
   "source": [
    "##  Universe Selection\n",
    "\n",
    "This component covers our process of defining the trading universe for which the algorithm operates."
   ]
  },
  {
   "cell_type": "markdown",
   "metadata": {},
   "source": [
    "### Imports "
   ]
  },
  {
   "cell_type": "code",
   "execution_count": 7,
   "metadata": {
    "collapsed": false
   },
   "outputs": [],
   "source": [
    "import numpy as np\n",
    "import pandas as pd\n",
    "import matplotlib.pyplot as plt\n",
    "import seaborn as sns\n",
    "from quantopian.pipeline.data.psychsignal import stocktwits\n",
    "from quantopian.pipeline.data import Fundamentals\n",
    "from quantopian.pipeline.data.builtin import USEquityPricing\n",
    "from quantopian.pipeline.filters.fundamentals import IsPrimaryShare"
   ]
  },
  {
   "cell_type": "markdown",
   "metadata": {},
   "source": [
    "### Universe Filters\n",
    "\n",
    "For our strategy, we want our base universe to be filtered by the following criteria:\n",
    "\n",
    "* is a primary share\n",
    "* is listed as a common stock\n",
    "* is not a depositary receipt (ADR/GDR)\n",
    "* is not trading over-the-counter (OTC)\n",
    "* is not when-issued (WI)\n",
    "* is not a limited partnership (LP)\n",
    "* is not an ETF (has Morningstar fundamental data)\n",
    "* has a price greater than or equal to $2.00\n",
    "* is found in the PsychSignal dataset"
   ]
  },
  {
   "cell_type": "code",
   "execution_count": 8,
   "metadata": {
    "collapsed": true
   },
   "outputs": [],
   "source": [
    "def universe_filter():\n",
    "    \n",
    "    #is a primary share\n",
    "    primary_share = IsPrimaryShare()\n",
    "\n",
    "    #is a common stock\n",
    "    common_stock = Fundamentals.security_type.latest.eq('ST00000001')\n",
    "\n",
    "    #not a depositary receipt\n",
    "    not_depositary = ~Fundamentals.is_depositary_receipt.latest\n",
    "\n",
    "    #not trading over-the-counter\n",
    "    not_otc = ~Fundamentals.exchange_id.latest.startswith('OTC')\n",
    "\n",
    "    #not when-issued\n",
    "    not_wi = ~Fundamentals.symbol.latest.endswith('.WI')\n",
    "\n",
    "    #not a limited partnership\n",
    "    not_lp_name = ~Fundamentals.standard_name.latest.matches('.* L[. ]?P.?$')\n",
    "    not_lp_balance_sheet = Fundamentals.limited_partnership.latest.isnull()\n",
    "\n",
    "    #not an ETF\n",
    "    have_market_cap = Fundamentals.market_cap.latest.notnull()\n",
    "\n",
    "    #equity price greater than or equal to $2.00\n",
    "    price_filter = USEquityPricing.close >= 2.00\n",
    "\n",
    "    #Filter\n",
    "    tradeable_stocks = (\n",
    "        primary_share\n",
    "        & common_stock\n",
    "        & not_depositary\n",
    "        & not_otc\n",
    "        & not_wi\n",
    "        & not_lp_name\n",
    "        & not_lp_balance_sheet\n",
    "        & have_market_cap\n",
    "        & price_filter\n",
    "    )\n",
    "    \n",
    "    return tradeable_stocks"
   ]
  },
  {
   "cell_type": "markdown",
   "metadata": {},
   "source": [
    "## Factor Analysis\n",
    "\n",
    "We want to test to see how good our alpha factors are at predicting relative price movements. A wide range of factors that are independent of each other yield a better ranking scheme.\n",
    "\n",
    "The factors we are going to evaluate are:\n",
    "* bearish_intensity\n",
    "* bull_intensity\n",
    "* sentiment score \n",
    "\n",
    "$$SentimentScore = \\frac{(bullScoredMessages - bearScoredMessages)}{(bullScoredMessages + bearScoredMessages)}$$\n",
    "\n",
    "* sentiment moving average (10, 20, 30, 50 day)"
   ]
  },
  {
   "cell_type": "markdown",
   "metadata": {},
   "source": [
    "### Fields in PsychSignal Dataset"
   ]
  },
  {
   "cell_type": "code",
   "execution_count": 9,
   "metadata": {
    "collapsed": false,
    "scrolled": false
   },
   "outputs": [
    {
     "name": "stdout",
     "output_type": "stream",
     "text": [
      "Dataset: stocktwits\n",
      "\n",
      "Fields:\n",
      "bear_scored_messages - float64\n",
      "asof_date - datetime64[ns]\n",
      "bearish_intensity - float64\n",
      "bull_scored_messages - float64\n",
      "bullish_intensity - float64\n",
      "symbol - object\n",
      "bull_minus_bear - float64\n",
      "bull_bear_msg_ratio - float64\n",
      "source - object\n",
      "total_scanned_messages - float64\n",
      "\n",
      "\n"
     ]
    }
   ],
   "source": [
    "def print_fields(dataset):\n",
    "    print \"Dataset: %s\\n\" % dataset.__name__\n",
    "    print \"Fields:\"\n",
    "    for field in list(dataset.columns):\n",
    "        print \"%s - %s\" % (field.name, field.dtype)\n",
    "    print \"\\n\"\n",
    "\n",
    "for data in (stocktwits,):\n",
    "    print_fields(data)"
   ]
  },
  {
   "cell_type": "markdown",
   "metadata": {},
   "source": [
    "### Sector Codes"
   ]
  },
  {
   "cell_type": "code",
   "execution_count": 11,
   "metadata": {
    "collapsed": true
   },
   "outputs": [],
   "source": [
    "MORNINGSTAR_SECTOR_CODES = {\n",
    "     -1: 'Misc',\n",
    "    101: 'Basic Materials',\n",
    "    102: 'Consumer Cyclical',\n",
    "    103: 'Financial Services',\n",
    "    104: 'Real Estate',\n",
    "    205: 'Consumer Defensive',\n",
    "    206: 'Healthcare',\n",
    "    207: 'Utilities',\n",
    "    308: 'Communication Services',\n",
    "    309: 'Energy',\n",
    "    310: 'Industrials',\n",
    "    311: 'Technology' ,\n",
    "}"
   ]
  },
  {
   "cell_type": "code",
   "execution_count": null,
   "metadata": {
    "collapsed": true
   },
   "outputs": [],
   "source": []
  }
 ],
 "metadata": {
  "kernelspec": {
   "display_name": "Python 2",
   "language": "python",
   "name": "python2"
  },
  "language_info": {
   "codemirror_mode": {
    "name": "ipython",
    "version": 2
   },
   "file_extension": ".py",
   "mimetype": "text/x-python",
   "name": "python",
   "nbconvert_exporter": "python",
   "pygments_lexer": "ipython2",
   "version": "2.7.12"
  }
 },
 "nbformat": 4,
 "nbformat_minor": 2
}