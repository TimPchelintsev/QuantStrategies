{
 "cells": [
  {
   "cell_type": "markdown",
   "metadata": {},
   "source": [
    "# Research\n",
    "\n",
    "by Joshua Isaacson and Hannah Isaacson \n",
    "\n",
    "For our Fall 2017 SICE@IU undergraduate research project, *A Sentiment-Based Long-Short Equity Strategy*."
   ]
  },
  {
   "cell_type": "markdown",
   "metadata": {},
   "source": [
    "## Components\n",
    "\n",
    "1. Universe Selection\n",
    "2. Factor Analysis\n",
    "3. Rebalancing\n",
    "4. Portfolio\n",
    "5. Pipeline"
   ]
  },
  {
   "cell_type": "markdown",
   "metadata": {},
   "source": [
    "##  Universe Selection\n",
    "\n",
    "This component covers our process of defining the trading universe for which the algorithm operates."
   ]
  },
  {
   "cell_type": "markdown",
   "metadata": {},
   "source": [
    "### Imports "
   ]
  },
  {
   "cell_type": "code",
   "execution_count": 99,
   "metadata": {
    "collapsed": false
   },
   "outputs": [],
   "source": [
    "import numpy as np\n",
    "import pandas as pd\n",
    "import matplotlib.pyplot as plt\n",
    "import seaborn as sns\n",
    "from quantopian.research import run_pipeline\n",
    "from quantopian.pipeline import Pipeline\n",
    "from quantopian.pipeline.data.psychsignal import stocktwits\n",
    "from quantopian.pipeline.data import Fundamentals\n",
    "from quantopian.pipeline.data.builtin import USEquityPricing\n",
    "from quantopian.pipeline.filters.fundamentals import IsPrimaryShare\n",
    "from quantopian.pipeline.data.builtin import USEquityPricing\n",
    "from quantopian.pipeline.factors import CustomFactor, Returns\n",
    "from quantopian.pipeline.classifiers.fundamentals import Sector\n",
    "from quantopian.pipeline.data.sentdex import sentiment_free\n",
    "from quantopian.pipeline.factors import SimpleMovingAverage\n",
    "from time import time\n",
    "import alphalens as al"
   ]
  },
  {
   "cell_type": "markdown",
   "metadata": {},
   "source": [
    "### Universe Filters\n",
    "\n",
    "For our strategy, we want our base universe to be filtered by the following criteria:\n",
    "\n",
    "* is a primary share\n",
    "* is listed as a common stock\n",
    "* is not a depositary receipt (ADR/GDR)\n",
    "* is not trading over-the-counter (OTC)\n",
    "* is not when-issued (WI)\n",
    "* is not a limited partnership (LP)\n",
    "* is not an ETF (has Morningstar fundamental data)\n",
    "* has a price greater than or equal to $2.00\n",
    "* is found in the PsychSignal dataset"
   ]
  },
  {
   "cell_type": "code",
   "execution_count": 100,
   "metadata": {
    "collapsed": true
   },
   "outputs": [],
   "source": [
    "#is a primary share\n",
    "primary_share = IsPrimaryShare()\n",
    "\n",
    "#is a common stock\n",
    "common_stock = Fundamentals.security_type.latest.eq('ST00000001')\n",
    "\n",
    "#not a depositary receipt\n",
    "not_depositary = ~Fundamentals.is_depositary_receipt.latest\n",
    "\n",
    "#not trading over-the-counter\n",
    "not_otc = ~Fundamentals.exchange_id.latest.startswith('OTC')\n",
    "\n",
    "#not when-issued\n",
    "not_wi = ~Fundamentals.symbol.latest.endswith('.WI')\n",
    "\n",
    "#not a limited partnership\n",
    "not_lp_name = ~Fundamentals.standard_name.latest.matches('.* L[. ]?P.?$')\n",
    "not_lp_balance_sheet = Fundamentals.limited_partnership.latest.isnull()\n",
    "\n",
    "#not an ETF\n",
    "have_market_cap = Fundamentals.market_cap.latest.notnull()\n",
    "\n",
    "#equity price greater than or equal to $2.00\n",
    "price_filter = USEquityPricing.close >= 2.00\n",
    "\n",
    "#Filter\n",
    "tradeable_stocks = (\n",
    "    primary_share\n",
    "    & common_stock\n",
    "    & not_depositary\n",
    "    & not_otc\n",
    "    & not_wi\n",
    "    & not_lp_name\n",
    "    & not_lp_balance_sheet\n",
    "    & have_market_cap\n",
    "    & price_filter\n",
    ")"
   ]
  },
  {
   "cell_type": "markdown",
   "metadata": {},
   "source": [
    "## Factor Analysis\n",
    "\n",
    "We want to test to see how good our alpha factors are at predicting relative price movements. A wide range of factors that are independent of each other yield a better ranking scheme.\n",
    "\n",
    "The factors we are going to evaluate are:\n",
    "* bearish_intensity\n",
    "* bullish_intensity\n",
    "* sentiment_signal\n",
    "* sentiment moving average (10, 20, 30, 50, 80 day)\n",
    "    * simple and exponential"
   ]
  },
  {
   "cell_type": "markdown",
   "metadata": {},
   "source": [
    "### Fields in PsychSignal Dataset"
   ]
  },
  {
   "cell_type": "code",
   "execution_count": 101,
   "metadata": {
    "collapsed": false,
    "scrolled": false
   },
   "outputs": [
    {
     "name": "stdout",
     "output_type": "stream",
     "text": [
      "Dataset: stocktwits\n",
      "\n",
      "Fields:\n",
      "bull_scored_messages - float64\n",
      "bullish_intensity - float64\n",
      "symbol - object\n",
      "bull_minus_bear - float64\n",
      "bull_bear_msg_ratio - float64\n",
      "source - object\n",
      "bear_scored_messages - float64\n",
      "total_scanned_messages - float64\n",
      "asof_date - datetime64[ns]\n",
      "bearish_intensity - float64\n",
      "\n",
      "\n"
     ]
    }
   ],
   "source": [
    "def print_fields(dataset):\n",
    "    print \"Dataset: %s\\n\" % dataset.__name__\n",
    "    print \"Fields:\"\n",
    "    for field in list(dataset.columns):\n",
    "        print \"%s - %s\" % (field.name, field.dtype)\n",
    "    print \"\\n\"\n",
    "\n",
    "for data in (stocktwits,):\n",
    "    print_fields(data)"
   ]
  },
  {
   "cell_type": "markdown",
   "metadata": {},
   "source": [
    "### Fields in Sentdex Sentiment Analysis Dataset"
   ]
  },
  {
   "cell_type": "code",
   "execution_count": 102,
   "metadata": {
    "collapsed": false
   },
   "outputs": [
    {
     "name": "stdout",
     "output_type": "stream",
     "text": [
      "Dataset: sentiment_free\n",
      "\n",
      "Fields:\n",
      "sentiment_signal - float64\n",
      "symbol - object\n",
      "asof_date - datetime64[ns]\n",
      "\n",
      "\n"
     ]
    }
   ],
   "source": [
    "def print_fields(dataset):\n",
    "    print \"Dataset: %s\\n\" % dataset.__name__\n",
    "    print \"Fields:\"\n",
    "    for field in list(dataset.columns):\n",
    "        print \"%s - %s\" % (field.name, field.dtype)\n",
    "    print \"\\n\"\n",
    "\n",
    "for data in (sentiment_free,):\n",
    "    print_fields(data)"
   ]
  },
  {
   "cell_type": "markdown",
   "metadata": {},
   "source": [
    "The datasets are set to variables to reduce clutter."
   ]
  },
  {
   "cell_type": "code",
   "execution_count": 111,
   "metadata": {
    "collapsed": true
   },
   "outputs": [],
   "source": [
    "sentdex_sentiment_signal = sentiment_free.sentiment_signal\n",
    "stocktwits.bearish_intensity"
   ]
  },
  {
   "cell_type": "markdown",
   "metadata": {},
   "source": [
    "### Dealing with NaN Values"
   ]
  },
  {
   "cell_type": "code",
   "execution_count": null,
   "metadata": {
    "collapsed": true
   },
   "outputs": [],
   "source": [
    "\n",
    "\n",
    "adjusted_sentiment_signal = df.where(df.replace(to_replace=0, value=np.nan),\n",
    " other=(df.fillna(method='ffill') + df.fillna(method='bfill'))/2)"
   ]
  },
  {
   "cell_type": "markdown",
   "metadata": {},
   "source": [
    "### Sentiment Signal Moving Averages\n",
    "\n",
    "Simple Moving Averages"
   ]
  },
  {
   "cell_type": "code",
   "execution_count": 107,
   "metadata": {
    "collapsed": false
   },
   "outputs": [],
   "source": [
    "sma_10 = SimpleMovingAverage(inputs=[sentiment_free.sentiment_signal], window_length=10)\n",
    "sma_20 = SimpleMovingAverage(inputs=[sentiment_free.sentiment_signal], window_length=20)\n",
    "sma_30 = SimpleMovingAverage(inputs=[sentiment_free.sentiment_signal], window_length=30)\n",
    "sma_50 = SimpleMovingAverage(inputs=[sentiment_free.sentiment_signal], window_length=50)\n",
    "sma_80 = SimpleMovingAverage(inputs=[sentiment_free.sentiment_signal], window_length=80)"
   ]
  },
  {
   "cell_type": "markdown",
   "metadata": {},
   "source": [
    "Exponential Weighted Moving Averages"
   ]
  },
  {
   "cell_type": "code",
   "execution_count": null,
   "metadata": {
    "collapsed": true
   },
   "outputs": [],
   "source": []
  },
  {
   "cell_type": "markdown",
   "metadata": {},
   "source": [
    "### Sector Codes"
   ]
  },
  {
   "cell_type": "code",
   "execution_count": 108,
   "metadata": {
    "collapsed": true
   },
   "outputs": [],
   "source": [
    "MORNINGSTAR_SECTOR_CODES = {\n",
    "     -1: 'Misc',\n",
    "    101: 'Basic Materials',\n",
    "    102: 'Consumer Cyclical',\n",
    "    103: 'Financial Services',\n",
    "    104: 'Real Estate',\n",
    "    205: 'Consumer Defensive',\n",
    "    206: 'Healthcare',\n",
    "    207: 'Utilities',\n",
    "    308: 'Communication Services',\n",
    "    309: 'Energy',\n",
    "    310: 'Industrials',\n",
    "    311: 'Technology' ,\n",
    "}"
   ]
  },
  {
   "cell_type": "markdown",
   "metadata": {
    "collapsed": true
   },
   "source": [
    "### Getting Data"
   ]
  },
  {
   "cell_type": "code",
   "execution_count": 109,
   "metadata": {
    "collapsed": false,
    "scrolled": false
   },
   "outputs": [],
   "source": [
    "pipe = Pipeline()\n",
    "\n",
    "pipe.add(stocktwits.bearish_intensity.latest, 'bearish_intensity')\n",
    "pipe.add(stocktwits.bullish_intensity.latest, 'bullish_intensity')\n",
    "pipe.add(sentiment_free.sentiment_signal.latest, 'sentiment_signal')\n",
    "pipe.add(sma_10, 'sma_10')\n",
    "pipe.add(sma_20, 'sma_20')\n",
    "pipe.add(sma_30, 'sma_30')\n",
    "pipe.add(sma_50, 'sma_50')\n",
    "pipe.add(sma_80, 'sma_80')\n",
    "\n",
    "start_timer = time()\n",
    "results = run_pipeline(pipe, '2015-01-01', '2016-01-01')\n",
    "end_timer = time()\n"
   ]
  },
  {
   "cell_type": "code",
   "execution_count": 110,
   "metadata": {
    "collapsed": false
   },
   "outputs": [
    {
     "data": {
      "text/html": [
       "<div>\n",
       "<table border=\"1\" class=\"dataframe\">\n",
       "  <thead>\n",
       "    <tr style=\"text-align: right;\">\n",
       "      <th></th>\n",
       "      <th></th>\n",
       "      <th>bearish_intensity</th>\n",
       "      <th>bullish_intensity</th>\n",
       "      <th>sentiment_signal</th>\n",
       "      <th>sma_10</th>\n",
       "      <th>sma_20</th>\n",
       "      <th>sma_30</th>\n",
       "      <th>sma_50</th>\n",
       "      <th>sma_80</th>\n",
       "    </tr>\n",
       "  </thead>\n",
       "  <tbody>\n",
       "    <tr>\n",
       "      <th rowspan=\"5\" valign=\"top\">2015-01-02 00:00:00+00:00</th>\n",
       "      <th>Equity(2 [ARNC])</th>\n",
       "      <td>0.00</td>\n",
       "      <td>1.20</td>\n",
       "      <td>2.0</td>\n",
       "      <td>2.8</td>\n",
       "      <td>3.6</td>\n",
       "      <td>4.266667</td>\n",
       "      <td>4.26</td>\n",
       "      <td>2.7375</td>\n",
       "    </tr>\n",
       "    <tr>\n",
       "      <th>Equity(21 [AAME])</th>\n",
       "      <td>0.00</td>\n",
       "      <td>0.00</td>\n",
       "      <td>NaN</td>\n",
       "      <td>NaN</td>\n",
       "      <td>NaN</td>\n",
       "      <td>NaN</td>\n",
       "      <td>NaN</td>\n",
       "      <td>NaN</td>\n",
       "    </tr>\n",
       "    <tr>\n",
       "      <th>Equity(24 [AAPL])</th>\n",
       "      <td>1.82</td>\n",
       "      <td>1.46</td>\n",
       "      <td>2.0</td>\n",
       "      <td>1.8</td>\n",
       "      <td>0.2</td>\n",
       "      <td>0.800000</td>\n",
       "      <td>0.80</td>\n",
       "      <td>0.8750</td>\n",
       "    </tr>\n",
       "    <tr>\n",
       "      <th>Equity(25 [ARNC_PR])</th>\n",
       "      <td>NaN</td>\n",
       "      <td>NaN</td>\n",
       "      <td>NaN</td>\n",
       "      <td>NaN</td>\n",
       "      <td>NaN</td>\n",
       "      <td>NaN</td>\n",
       "      <td>NaN</td>\n",
       "      <td>NaN</td>\n",
       "    </tr>\n",
       "    <tr>\n",
       "      <th>Equity(31 [ABAX])</th>\n",
       "      <td>0.00</td>\n",
       "      <td>0.00</td>\n",
       "      <td>NaN</td>\n",
       "      <td>NaN</td>\n",
       "      <td>NaN</td>\n",
       "      <td>NaN</td>\n",
       "      <td>NaN</td>\n",
       "      <td>NaN</td>\n",
       "    </tr>\n",
       "  </tbody>\n",
       "</table>\n",
       "</div>"
      ],
      "text/plain": [
       "                                                bearish_intensity  \\\n",
       "2015-01-02 00:00:00+00:00 Equity(2 [ARNC])                   0.00   \n",
       "                          Equity(21 [AAME])                  0.00   \n",
       "                          Equity(24 [AAPL])                  1.82   \n",
       "                          Equity(25 [ARNC_PR])                NaN   \n",
       "                          Equity(31 [ABAX])                  0.00   \n",
       "\n",
       "                                                bullish_intensity  \\\n",
       "2015-01-02 00:00:00+00:00 Equity(2 [ARNC])                   1.20   \n",
       "                          Equity(21 [AAME])                  0.00   \n",
       "                          Equity(24 [AAPL])                  1.46   \n",
       "                          Equity(25 [ARNC_PR])                NaN   \n",
       "                          Equity(31 [ABAX])                  0.00   \n",
       "\n",
       "                                                sentiment_signal  sma_10  \\\n",
       "2015-01-02 00:00:00+00:00 Equity(2 [ARNC])                   2.0     2.8   \n",
       "                          Equity(21 [AAME])                  NaN     NaN   \n",
       "                          Equity(24 [AAPL])                  2.0     1.8   \n",
       "                          Equity(25 [ARNC_PR])               NaN     NaN   \n",
       "                          Equity(31 [ABAX])                  NaN     NaN   \n",
       "\n",
       "                                                sma_20    sma_30  sma_50  \\\n",
       "2015-01-02 00:00:00+00:00 Equity(2 [ARNC])         3.6  4.266667    4.26   \n",
       "                          Equity(21 [AAME])        NaN       NaN     NaN   \n",
       "                          Equity(24 [AAPL])        0.2  0.800000    0.80   \n",
       "                          Equity(25 [ARNC_PR])     NaN       NaN     NaN   \n",
       "                          Equity(31 [ABAX])        NaN       NaN     NaN   \n",
       "\n",
       "                                                sma_80  \n",
       "2015-01-02 00:00:00+00:00 Equity(2 [ARNC])      2.7375  \n",
       "                          Equity(21 [AAME])        NaN  \n",
       "                          Equity(24 [AAPL])     0.8750  \n",
       "                          Equity(25 [ARNC_PR])     NaN  \n",
       "                          Equity(31 [ABAX])        NaN  "
      ]
     },
     "execution_count": 110,
     "metadata": {},
     "output_type": "execute_result"
    }
   ],
   "source": [
    "results.head()"
   ]
  },
  {
   "cell_type": "code",
   "execution_count": null,
   "metadata": {
    "collapsed": true
   },
   "outputs": [],
   "source": []
  }
 ],
 "metadata": {
  "kernelspec": {
   "display_name": "Python 2",
   "language": "python",
   "name": "python2"
  },
  "language_info": {
   "codemirror_mode": {
    "name": "ipython",
    "version": 2
   },
   "file_extension": ".py",
   "mimetype": "text/x-python",
   "name": "python",
   "nbconvert_exporter": "python",
   "pygments_lexer": "ipython2",
   "version": "2.7.12"
  }
 },
 "nbformat": 4,
 "nbformat_minor": 2
}