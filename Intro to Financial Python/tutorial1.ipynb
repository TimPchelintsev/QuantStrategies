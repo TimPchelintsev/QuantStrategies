{
 "cells": [
  {
   "cell_type": "markdown",
   "metadata": {},
   "source": [
    "# Tutorial 1: Rate of Return, Mean and Variance"
   ]
  },
  {
   "cell_type": "code",
   "execution_count": 1,
   "metadata": {
    "collapsed": true
   },
   "outputs": [],
   "source": [
    "import quandl\n",
    "import numpy as np\n",
    "import quandl"
   ]
  },
  {
   "cell_type": "code",
   "execution_count": 2,
   "metadata": {
    "collapsed": true
   },
   "outputs": [],
   "source": [
    "quandl.ApiConfig.api_key = 'PGNosZasWCLCBMfGND4h'"
   ]
  },
  {
   "cell_type": "code",
   "execution_count": 3,
   "metadata": {
    "collapsed": true
   },
   "outputs": [],
   "source": [
    "#get quandl data\n",
    "aapl_table = quandl.get('WIKI/AAPL')\n",
    "aapl = aapl_table.loc['2017-3',['Open','Close']]"
   ]
  },
  {
   "cell_type": "code",
   "execution_count": 5,
   "metadata": {
    "scrolled": false
   },
   "outputs": [
    {
     "name": "stdout",
     "output_type": "stream",
     "text": [
      "               Open   Close  log_price\n",
      "Date                                  \n",
      "2017-03-01  137.890  139.79   4.940141\n",
      "2017-03-02  140.000  138.96   4.934186\n",
      "2017-03-03  138.780  139.78   4.940070\n",
      "2017-03-06  139.365  139.34   4.936917\n",
      "2017-03-07  139.060  139.52   4.938208\n",
      "2017-03-08  138.950  139.00   4.934474\n",
      "2017-03-09  138.740  138.68   4.932169\n",
      "2017-03-10  139.250  139.14   4.935481\n",
      "2017-03-13  138.850  139.20   4.935912\n",
      "2017-03-14  139.300  138.99   4.934402\n",
      "2017-03-15  139.410  140.46   4.944923\n",
      "2017-03-16  140.720  140.69   4.946559\n",
      "2017-03-17  141.000  139.99   4.941571\n",
      "2017-03-20  140.400  141.46   4.952017\n",
      "2017-03-21  142.110  139.84   4.940499\n",
      "2017-03-22  139.845  141.42   4.951734\n",
      "2017-03-23  141.260  140.92   4.948192\n",
      "2017-03-24  141.500  140.64   4.946203\n",
      "2017-03-27  139.390  140.88   4.947908\n",
      "2017-03-28  140.910  143.80   4.968423\n",
      "2017-03-29  143.680  144.12   4.970646\n",
      "2017-03-30  144.190  143.93   4.969327\n",
      "2017-03-31  143.720  143.66   4.967449\n"
     ]
    }
   ],
   "source": [
    "#take log_price\n",
    "aapl['log_price'] = np.log(aapl.Close)\n",
    "#aapl['log_return'] = np.log_price.diff()\n",
    "print aapl"
   ]
  },
  {
   "cell_type": "code",
   "execution_count": 7,
   "metadata": {},
   "outputs": [],
   "source": [
    "#calculate monthly return\n",
    "#month_return = aapl.log_return.sum()\n",
    "#print month_return"
   ]
  },
  {
   "cell_type": "code",
   "execution_count": 8,
   "metadata": {},
   "outputs": [
    {
     "name": "stdout",
     "output_type": "stream",
     "text": [
      "4.94597446551\n"
     ]
    }
   ],
   "source": [
    "print np.mean(aapl.log_price)"
   ]
  },
  {
   "cell_type": "code",
   "execution_count": 9,
   "metadata": {},
   "outputs": [
    {
     "name": "stdout",
     "output_type": "stream",
     "text": [
      "0.000142032804482\n"
     ]
    }
   ],
   "source": [
    "print np.var(aapl.log_price)"
   ]
  },
  {
   "cell_type": "code",
   "execution_count": 10,
   "metadata": {},
   "outputs": [
    {
     "name": "stdout",
     "output_type": "stream",
     "text": [
      "0.0119177516538\n"
     ]
    }
   ],
   "source": [
    "print np.std(aapl.log_price)"
   ]
  },
  {
   "cell_type": "code",
   "execution_count": null,
   "metadata": {
    "collapsed": true
   },
   "outputs": [],
   "source": []
  }
 ],
 "metadata": {
  "kernelspec": {
   "display_name": "Python 2",
   "language": "python",
   "name": "python2"
  },
  "language_info": {
   "codemirror_mode": {
    "name": "ipython",
    "version": 2
   },
   "file_extension": ".py",
   "mimetype": "text/x-python",
   "name": "python",
   "nbconvert_exporter": "python",
   "pygments_lexer": "ipython2",
   "version": "2.7.12"
  }
 },
 "nbformat": 4,
 "nbformat_minor": 2
}