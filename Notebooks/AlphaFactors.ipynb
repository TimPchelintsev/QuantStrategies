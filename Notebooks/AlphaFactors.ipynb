{
 "cells": [
  {
   "cell_type": "code",
   "execution_count": null,
   "metadata": {
    "collapsed": false
   },
   "outputs": [],
   "source": [
    "from quantopian.pipeline import Pipeline \n",
    "from quantopian.research import run_pipeline\n",
    "from quantopian.pipeline.filters.morningstar import Q1500US\n",
    "from quantopian.pipeline.data.sentdex import sentiment\n",
    "from quantopian.pipeline.data.morningstar import operation_ratios\n",
    "\n",
    "def make_pipeline():\n",
    "    testing_factor = operation_ratios.revenue_growth.latest\n",
    "    universe = (Q1500US() &\n",
    "               testing_factor.notnull())\n",
    "    testing_factor = testing_factor.rank(mask = universe, method = 'average')\n",
    "    \n",
    "    pipe = Pipeline(columns = {'testing_factor':testing_factor},\n",
    "                   screen = universe)\n",
    "    return pipe\n",
    "\n",
    "result = run_pipeline(make_pipeline(), start_date = '2015-01-01', end_date='2016-01-01')\n",
    "result.head()"
   ]
  },
  {
   "cell_type": "code",
   "execution_count": null,
   "metadata": {
    "collapsed": true
   },
   "outputs": [],
   "source": []
  }
 ],
 "metadata": {
  "kernelspec": {
   "display_name": "Python 2",
   "language": "python",
   "name": "python2"
  },
  "language_info": {
   "codemirror_mode": {
    "name": "ipython",
    "version": 2
   },
   "file_extension": ".py",
   "mimetype": "text/x-python",
   "name": "python",
   "nbconvert_exporter": "python",
   "pygments_lexer": "ipython2",
   "version": "2.7.12"
  }
 },
 "nbformat": 4,
 "nbformat_minor": 2
}